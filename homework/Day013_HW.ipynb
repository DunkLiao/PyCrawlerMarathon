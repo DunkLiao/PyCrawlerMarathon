{
 "cells": [
  {
   "cell_type": "markdown",
   "metadata": {},
   "source": [
    "### 專案名稱: 網路爬蟲實戰研習馬拉松\n",
    "### 功能描述: 第13天作業\n",
    "### 版權所有: Dunk  \n",
    "### 程式撰寫: Dunk  \n",
    "### 撰寫日期：2020/06/18\n",
    "### 改版日期:  \n",
    "### 改版備註: "
   ]
  },
  {
   "cell_type": "markdown",
   "metadata": {},
   "source": [
    "# PTT 網路爬蟲實作練習\n",
    "\n",
    "\n",
    "* 能夠利用 Request + BeatifulSour 撰寫爬蟲，並存放到合適的資料結構\n"
   ]
  },
  {
   "cell_type": "markdown",
   "metadata": {},
   "source": [
    "## 作業目標\n",
    "\n",
    "根據範例 ，完成以下問題：\n",
    "\n",
    "* ① 印出最新文章的「作者」「標題」「時間」\n",
    "* ② 印出第一頁所有文章的「作者」「標題」「時間」\n"
   ]
  },
  {
   "cell_type": "markdown",
   "metadata": {},
   "source": [
    "### ANS:"
   ]
  },
  {
   "cell_type": "markdown",
   "metadata": {},
   "source": [
    "#### 讀取來源網址"
   ]
  },
  {
   "cell_type": "code",
   "execution_count": 5,
   "metadata": {},
   "outputs": [],
   "source": [
    "import requests\n",
    "from bs4 import BeautifulSoup\n",
    "url = 'https://www.ptt.cc/bbs/NBA/index.html'\n",
    "r = requests.get(url)\n",
    "soup = BeautifulSoup(r.text, \"html5lib\")\n",
    "\n"
   ]
  },
  {
   "cell_type": "markdown",
   "metadata": {},
   "source": [
    "### ① 印出最新文章的「作者」「標題」「時間」"
   ]
  },
  {
   "cell_type": "code",
   "execution_count": 6,
   "metadata": {},
   "outputs": [
    {
     "data": {
      "text/plain": [
       "{'標題': '[討論] 02國王是怎麼和有巔峰歐肥湖人打滿7場的?',\n",
       " '作者': 'bill09232002 (唷~)',\n",
       " '時間': 'Wed Jun 17 23:19:41 2020'}"
      ]
     },
     "execution_count": 6,
     "metadata": {},
     "output_type": "execute_result"
    }
   ],
   "source": [
    "# 因為原始的資料難以判斷「新/舊」，因此我們必須進入內頁抓取詳細的時間，最終存成 List of Dict 的形式再自行排序。\n",
    "\n",
    "posts = []\n",
    "\n",
    "for d in soup.find_all(class_=\"title\"):\n",
    "    try:\n",
    "        post = {}\n",
    "        post['標題'] = d.text.replace('\\t', '').replace('\\n', '')\n",
    "        \n",
    "        r = BeautifulSoup(requests.get('https://www.ptt.cc'+d.find('a')['href']).text, \"html5lib\")\n",
    "        post['作者'] = r.find(class_='article-meta-value').text\n",
    "        post['時間'] = r.find_all(class_='article-meta-value')[-1].text\n",
    "        \n",
    "        posts.append(post)\n",
    "    except:\n",
    "        continue\n",
    "        \n",
    "posts = sorted(posts, key= lambda x: x['時間'])\n",
    "# 補充：List of Dict 的排序方法\n",
    "# https://stackoverflow.com/questions/72899/how-do-i-sort-a-list-of-dictionaries-by-a-value-of-the-dictionary\n",
    "posts[-1]"
   ]
  },
  {
   "cell_type": "markdown",
   "metadata": {},
   "source": [
    "### ② 印出第一頁所有文章的「作者」「標題」「時間」"
   ]
  },
  {
   "cell_type": "code",
   "execution_count": 7,
   "metadata": {},
   "outputs": [
    {
     "name": "stdout",
     "output_type": "stream",
     "text": [
      "作者: allssddaa (屌炸天)\n",
      "標題: Re: [討論] 三分高效率 = 中距離不重要嗎？\n",
      "時間: Wed Jun 17 14:40:51 2020\n",
      "作者: pneumo (超☆冒險蓋)\n",
      "標題: [外絮] KI為何變卦?Perkins:因聯盟說KI不能去迪士尼\n",
      "時間: Wed Jun 17 15:41:56 2020\n",
      "作者: pneumo (超☆冒險蓋)\n",
      "標題: [花邊] 迪士尼將提供球員及家屬看尚未上映的電影\n",
      "時間: Wed Jun 17 16:05:26 2020\n",
      "作者: hass231470 ()\n",
      "標題: Re: [討論] 三分高效率 = 中距離不重要嗎？\n",
      "時間: Wed Jun 17 16:29:18 2020\n",
      "作者: whoAU (你是誰？)\n",
      "標題: [新聞] 復賽手冊公開！每隊帶35人前往奧蘭多\n",
      "時間: Wed Jun 17 16:39:33 2020\n",
      "作者: whoAU (你是誰？)\n",
      "標題: [花邊] 咩棒:KI需要停止胡扯 他可選擇放棄一切\n",
      "時間: Wed Jun 17 16:53:06 2020\n",
      "作者: thnlkj0665 (灰色地帶)\n",
      "標題: [情報] 聯盟將創立匿名熱線 開放檢舉違規行為者\n",
      "時間: Wed Jun 17 17:06:21 2020\n",
      "作者: thnlkj0665 (灰色地帶)\n",
      "標題: [花邊] 大學時代隊友挺卡特  飛人體能較勁勝喬丹\n",
      "時間: Wed Jun 17 20:58:10 2020\n",
      "作者: namie810303 (NBA)\n",
      "標題: [公告]水桶\n",
      "時間: Wed Jun 17 21:47:31 2020\n",
      "作者: Ivers (小熊今年拿冠軍!!!)\n",
      "標題: [情報] 2010TODAY\n",
      "時間: Wed Jun 17 21:50:16 2020\n",
      "作者: bill09232002 (唷~)\n",
      "標題: [討論] 02國王是怎麼和有巔峰歐肥湖人打滿7場的?\n",
      "時間: Wed Jun 17 23:19:41 2020\n",
      "作者: qazwsx879345 (Rajon Rondo)\n",
      "標題: [公告] 版主上任相關事項\n",
      "時間: Fri Oct 25 10:44:03 2019\n",
      "作者: Acetoxy (阿斯)\n",
      "標題: [情報] SEASON Schedule 賽程 March 19–20\n",
      "時間: Mon Mar  2 01:19:40 2020\n",
      "作者: Vedan (味丹)\n",
      "標題: [公告] 第一次被退文，可在三天後刪除退文\n",
      "時間: Mon Mar  9 11:44:26 2020\n",
      "作者: Vedan (味丹)\n",
      "標題: [公告] 板務說明\n",
      "時間: Fri Apr  3 01:28:00 2020\n"
     ]
    }
   ],
   "source": [
    "for d in soup.find_all(class_=\"title\"):\n",
    "    # print(d.text.replace('\\t', '').replace('\\n', ''))\n",
    "    try:\n",
    "        r = BeautifulSoup(requests.get('https://www.ptt.cc'+d.find('a')['href']).text, \"html5lib\")\n",
    "        print('作者: ' + r.find(class_='article-meta-value').text)\n",
    "        print('標題: ' + r.find_all(class_='article-meta-value')[-2].text)\n",
    "        print('時間: ' + r.find_all(class_='article-meta-value')[-1].text)\n",
    "    except:\n",
    "        continue"
   ]
  },
  {
   "cell_type": "markdown",
   "metadata": {},
   "source": [
    "### ③ 試著爬爬看其他版的文章"
   ]
  },
  {
   "cell_type": "code",
   "execution_count": 8,
   "metadata": {},
   "outputs": [
    {
     "name": "stdout",
     "output_type": "stream",
     "text": [
      "作者: chubby31190 (台南人點飲料不加糖)\n",
      "標題: [閒聊] 大家小學時的畢業歌也是今年夏天嗎？\n",
      "時間: Thu Jun 18 01:55:37 2020\n",
      "作者: johdju88 (行動代號—皮卡丘☆)\n",
      "標題: [閒聊] 周杰倫會不會是故意不寫屌歌的阿?\n",
      "時間: Thu Jun 18 02:06:25 2020\n",
      "作者: flower42 (栗悟飯與龜波功)\n",
      "標題: [閒聊] 房間防日曬小物分享-自製防曬板\n",
      "時間: Thu Jun 18 02:30:21 2020\n",
      "作者: assassinASHE (幹古專用帳號)\n",
      "標題: [心情] 男朋友不讓我玩模型\n",
      "時間: Thu Jun 18 02:50:05 2020\n",
      "作者: joanzkow (星浪)\n",
      "標題: [討論] 當年PTT鬍子哥約砲為什麼會被鄉民公審啊?\n",
      "時間: Thu Jun 18 05:17:32 2020\n",
      "作者: O300 (歐三百)\n",
      "標題: [心情] 男友喜歡吃香菜\n",
      "時間: Thu Jun 18 06:31:18 2020\n",
      "作者: O300 (歐三百)\n",
      "標題: [問題] 有女孩兒也不化妝嗎\n",
      "時間: Thu Jun 18 06:43:09 2020\n",
      "作者: ffooxx (小芙尼)\n",
      "標題: [閒聊] 越低的太陽看起來越像蛋黃\n",
      "時間: Thu Jun 18 06:44:15 2020\n",
      "作者: lpbrother (LP哥(LP = Love & Peace))\n",
      "標題: [閒聊] 今年高中畢業是不是流行拍這種MV？\n",
      "時間: Thu Jun 18 07:03:30 2020\n",
      "作者: as553 (老呱)\n",
      "標題: [閒聊] 哪些服務會被摸\n",
      "時間: Thu Jun 18 07:17:51 2020\n",
      "作者: Vedan (味丹)\n",
      "標題: [公告] 六月置底閒聊區\n",
      "時間: Mon Jun  1 00:00:07 2020\n",
      "作者: Vedan (味丹)\n",
      "標題: Fw: [公告] 6/22 停機公告\n",
      "時間: Sun Jun 14 00:39:20 2020\n"
     ]
    }
   ],
   "source": [
    "url = 'https://www.ptt.cc/bbs/WomenTalk/index.html'\n",
    "r = requests.get(url)\n",
    "soup = BeautifulSoup(r.text, \"html5lib\")\n",
    "for d in soup.find_all(class_=\"title\"):\n",
    "    # print(d.text.replace('\\t', '').replace('\\n', ''))\n",
    "    try:\n",
    "        r = BeautifulSoup(requests.get('https://www.ptt.cc'+d.find('a')['href']).text, \"html5lib\")\n",
    "        print('作者: ' + r.find(class_='article-meta-value').text)\n",
    "        print('標題: ' + r.find_all(class_='article-meta-value')[-2].text)\n",
    "        print('時間: ' + r.find_all(class_='article-meta-value')[-1].text)\n",
    "    except:\n",
    "        continue"
   ]
  },
  {
   "cell_type": "code",
   "execution_count": 9,
   "metadata": {},
   "outputs": [
    {
     "data": {
      "text/plain": [
       "{'標題': '[情報] 京東618手機價格洩密清單',\n",
       " '作者': 'PTTjoker (超長優文製造機)',\n",
       " '時間': 'Wed Jun 17 23:34:16 2020'}"
      ]
     },
     "execution_count": 9,
     "metadata": {},
     "output_type": "execute_result"
    }
   ],
   "source": [
    "url = 'https://www.ptt.cc/bbs/Lifeismoney/index.html'\n",
    "r = requests.get(url)\n",
    "\n",
    "soup = BeautifulSoup(r.text, \"html5lib\")\n",
    "\n",
    "posts = []\n",
    "\n",
    "for d in soup.find_all(class_=\"title\"):\n",
    "    try:\n",
    "        post = {}\n",
    "        post['標題'] = d.text.replace('\\t', '').replace('\\n', '')\n",
    "        \n",
    "        r = BeautifulSoup(requests.get('https://www.ptt.cc'+d.find('a')['href']).text, \"html5lib\")\n",
    "        post['作者'] = r.find(class_='article-meta-value').text\n",
    "        post['時間'] = r.find_all(class_='article-meta-value')[-1].text\n",
    "        \n",
    "        posts.append(post)\n",
    "    except:\n",
    "        continue\n",
    "        \n",
    "posts = sorted(posts, key= lambda x: x['時間'])\n",
    "posts[-1]"
   ]
  }
 ],
 "metadata": {
  "kernelspec": {
   "display_name": "Python 3",
   "language": "python",
   "name": "python3"
  },
  "language_info": {
   "codemirror_mode": {
    "name": "ipython",
    "version": 3
   },
   "file_extension": ".py",
   "mimetype": "text/x-python",
   "name": "python",
   "nbconvert_exporter": "python",
   "pygments_lexer": "ipython3",
   "version": "3.7.6"
  }
 },
 "nbformat": 4,
 "nbformat_minor": 2
}
