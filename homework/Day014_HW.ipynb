{
 "cells": [
  {
   "cell_type": "markdown",
   "metadata": {},
   "source": [
    "### 專案名稱: 網路爬蟲實戰研習馬拉松\n",
    "### 功能描述: 第14天作業\n",
    "### 版權所有: Dunk  \n",
    "### 程式撰寫: Dunk  \n",
    "### 撰寫日期：2020/06/19\n",
    "### 改版日期:  \n",
    "### 改版備註:  "
   ]
  },
  {
   "cell_type": "markdown",
   "metadata": {},
   "source": [
    "# YAHOO電影爬蟲練習\n",
    "## 練習爬取電影放映資訊。必須逐步獲取電影的代號、放映地區、放映日期後，再送出查詢給伺服器。"
   ]
  },
  {
   "cell_type": "code",
   "execution_count": 60,
   "metadata": {},
   "outputs": [],
   "source": [
    "import requests\n",
    "import re\n",
    "from bs4 import BeautifulSoup"
   ]
  },
  {
   "cell_type": "markdown",
   "metadata": {},
   "source": [
    "### 先搜尋全部的電影代號(ID)資訊"
   ]
  },
  {
   "cell_type": "code",
   "execution_count": 61,
   "metadata": {},
   "outputs": [
    {
     "name": "stdout",
     "output_type": "stream",
     "text": [
      "Movie: 失控特工, ID: 10734\n",
      "Movie: 明信片謀殺案, ID: 10724\n",
      "Movie: 彼得漢德克： 我在森林，晚一點到, ID: 10723\n",
      "Movie: 混沌之神, ID: 10709\n",
      "Movie: 最瘋狂的旅程, ID: 10705\n",
      "Movie: 盤索里拳手, ID: 10703\n",
      "Movie: 阿基米德大戰, ID: 10702\n",
      "Movie: 血疫, ID: 10701\n",
      "Movie: 射鵰英雄傳之東成西就, ID: 10694\n",
      "Movie: 東邪西毒：終極版, ID: 10693\n",
      "Movie: 戀戀琴聲, ID: 10685\n",
      "Movie: 大叔, ID: 10679\n",
      "Movie: 媽！我阿榮啦, ID: 10646\n",
      "Movie: 終極自殺旅店, ID: 10756\n",
      "Movie: 銀翼殺手最終版, ID: 10732\n",
      "Movie: 北非諜影, ID: 10725\n",
      "Movie: 金魚俱樂部, ID: 10721\n",
      "Movie: 弒婚遊戲, ID: 10717\n",
      "Movie: 108～海馬五郎的復仇與冒險～, ID: 10708\n",
      "Movie: 電影版聲之形, ID: 10706\n",
      "Movie: 殺機疑雲, ID: 10700\n",
      "Movie: 決戰最前線, ID: 10699\n",
      "Movie: 深海擴散, ID: 10697\n",
      "Movie: 殘酷街頭：暴力實錄, ID: 10692\n",
      "Movie: 普立茲記者, ID: 10670\n",
      "Movie: 殺人回憶(特別重映), ID: 10669\n",
      "Movie: 超完美社區, ID: 10664\n",
      "Movie: 非常母親, ID: 10662\n",
      "Movie: 親愛陌生人, ID: 10643\n",
      "Movie: 婚姻大崩壞, ID: 10534\n",
      "Movie: 烈火情人數位修復版, ID: 10695\n",
      "Movie: 蚵豐村, ID: 10688\n",
      "Movie: 絕殺慕尼黑, ID: 10683\n",
      "Movie: 夜半歌聲, ID: 10671\n",
      "Movie: 詩情攝慾, ID: 10668\n",
      "Movie: 詭妹, ID: 10667\n",
      "Movie: 敢殺就來, ID: 10649\n",
      "Movie: 影裏, ID: 10623\n",
      "Movie: 淒厲人僧, ID: 10578\n",
      "Movie: 沖繩豆腐之戀, ID: 8284\n",
      "Movie: 蝙蝠俠：開戰時刻, ID: 10674\n",
      "Movie: 黑暗騎士：黎明昇起, ID: 10673\n",
      "Movie: 黑暗騎士, ID: 10672\n",
      "Movie: 火線獵殺令, ID: 10663\n",
      "Movie: 放飛大丈夫, ID: 10651\n",
      "Movie: 罪人的控訴, ID: 10648\n",
      "Movie: 謝謝你愛過我, ID: 10637\n",
      "Movie: 猛鬼樂園, ID: 10629\n",
      "Movie: 愛美獎行動, ID: 10600\n",
      "Movie: 靠北少女, ID: 10575\n",
      "Movie: 1/2的魔法, ID: 10505\n",
      "Movie: 靈異405號房, ID: 10687\n",
      "Movie: 來自深淵 深沉靈魂的黎明  4DX/MX4D, ID: 10658\n",
      "Movie: 天氣之子, ID: 10645\n",
      "Movie: 末代皇帝, ID: 10640\n",
      "Movie: 奪命隧道, ID: 10599\n",
      "Movie: 老娘就要這麼活, ID: 10611\n",
      "Movie: 壞教育, ID: 10617\n",
      "Movie: 見鬼的戀愛季節, ID: 10612\n",
      "Movie: 數碼寶貝 LAST EVOLUTION 絆, ID: 10572\n",
      "Movie: 美好拾光公司, ID: 10541\n",
      "Movie: 知道天空有多藍的人啊, ID: 10526\n",
      "Movie: 我的英雄學院劇場版：英雄新世紀, ID: 10481\n",
      "Movie: 巧虎電影：英雄遊樂園, ID: 10429\n",
      "Movie: 進擊的巨人 劇場版─覺醒的咆哮, ID: 7659\n",
      "Movie: 軍艦島, ID: 6862\n",
      "Movie: 目擊者., ID: 6632\n",
      "Movie: 羅根., ID: 6571\n",
      "Movie: 惡棍英雄：死侍., ID: 5904\n",
      "Movie: 紅衣小女孩, ID: 5818\n"
     ]
    }
   ],
   "source": [
    "# 查看目前上映那些電影，並擷取出其ID資訊\n",
    "url = 'https://movies.yahoo.com.tw/'\n",
    "resp = requests.get(url)\n",
    "resp.encoding = 'utf-8'\n",
    "\n",
    "soup = BeautifulSoup(resp.text, 'lxml')\n",
    "html = soup.find(\"select\", attrs={'name':'movie_id'})\n",
    "movie_item = html.find_all(\"option\", attrs={'data-name':re.compile('.*')})\n",
    "\n",
    "for p in movie_item:\n",
    "    print(\"Movie: %s, ID: %s\" % (p[\"data-name\"], p[\"value\"]))"
   ]
  },
  {
   "cell_type": "markdown",
   "metadata": {},
   "source": [
    "### 指定你有興趣的電影其ID，然後查詢其放映地區資訊。"
   ]
  },
  {
   "cell_type": "code",
   "execution_count": 62,
   "metadata": {},
   "outputs": [],
   "source": [
    "# 參考前一個步驟中擷取到的ID資訊，並指定ID\n",
    "movie_id = 5904"
   ]
  },
  {
   "cell_type": "code",
   "execution_count": 63,
   "metadata": {},
   "outputs": [
    {
     "name": "stdout",
     "output_type": "stream",
     "text": [
      "放映地區: 台北市, 代號(area_id): 28\n",
      "放映地區: 新北市, 代號(area_id): 8\n",
      "放映地區: 桃園, 代號(area_id): 16\n",
      "放映地區: 新竹, 代號(area_id): 20\n",
      "放映地區: 台中, 代號(area_id): 2\n",
      "放映地區: 台南, 代號(area_id): 10\n",
      "放映地區: 高雄, 代號(area_id): 17\n"
     ]
    }
   ],
   "source": [
    "url = 'https://movies.yahoo.com.tw/api/v1/areas_by_movie_theater'\n",
    "payload = {'movie_id':str(movie_id)}\n",
    "\n",
    "# 模擬一個header\n",
    "headers = {\n",
    "    'authority': 'movies.yahoo.com.tw',\n",
    "    'method': 'GET',\n",
    "    'path': '/api/v1/areas_by_movie_theater?movie_id=' + str(movie_id),\n",
    "    'scheme': 'https',\n",
    "    'accept': 'application/json, text/javascript, */*; q=0.01',\n",
    "    'accept-encoding': 'gzip, deflate, br',\n",
    "    'accept-language': 'zh-TW,zh;q=0.9,en-US;q=0.8,en;q=0.7,zh-CN;q=0.6',\n",
    "    'cookie': 'rxx=9s3x2fws06.1g16irnc&v=1; _ga=GA1.3.2056742944.1551651301; GUC=AQEBAQFczFpdm0IfmwSB&s=AQAAACoo4N5D&g=XMsVBw; BX=4hkdk1decm57t&b=3&s=mr; _ga=GA1.4.2056742944.1551651301; nexagesuid=82843256dd234e8e91aa73f2062f8218; browsed_movie=eyJpdiI6IlJXWWtiSWJaZlNGK2MxQnhscnVUYWc9PSIsInZhbHVlIjoiMXRhMmVHRXRIeUNjc1RBWDJzdGYwbnlIQURmWGsrcjJSMzhkbkcraDNJVUNIZEZsbzU3amlFcVZ1NzlmazJrTGpoMjVrbHk1YmpoRENXaHZTOUw1TmI2ZTZVWHdOejZQZm16RmVuMWlHTTJLaTZLVFZZVkFOMDlTd1wvSGltcytJIiwibWFjIjoiZWQ2ZjA4MmVjZmZlYjlmNjJmYmY2NGMyMDI0Njc0NWViYjVkOWE2NDg0N2RhODMxZjBjZDhiMmJhZTc2MDZhYiJ9; avi=eyJpdiI6Im1NeWFJRlVRWDR1endEcGRGUGJUbVE9PSIsInZhbHVlIjoickRpU3JuUytmcGl6cjF5OW0rNU9iZz09IiwibWFjIjoiY2VmY2NkNzZmM2NhNjY5YzlkOTcyNjE5OGEyMzU0NWYxOTdmMDRkMDY3OWNmMmZjOTMxYjc5MjI5N2Q5NGE5MiJ9; cmp=t=1559391030&j=0; _gid=GA1.4.779543841.1559391031; XSRF-TOKEN=eyJpdiI6IkhpS2hGcDRQaHlmWUJmaHdSS2Q2bHc9PSIsInZhbHVlIjoiOUVoNFk4OHI1UUZmUWRtYXhza0MyWjJSTlhlZ3RnT0VGeVJPN2JuczVRMGRFdWt2OUlsamVKeHRobFwvcHBGM0dhU3VyMXNGTHlsb2dVM2l0U1hpUGxBPT0iLCJtYWMiOiJkZWU4YzJhNjAxMTY3MzE4Y2ExNWIxYmE1ZjE1YWZlZTlhOTcyYjc4M2RlZGY4ZWNjZDYyMTA2NGYwZGViMzc2In0%3D; m_s=eyJpdiI6InpsZHZ2Tk1BZ0dxaHhETml1RjBnUXc9PSIsInZhbHVlIjoiSkNGeHUranRoXC85bDFiaDhySTJqNkJRcWdjWUxjeVRJSHVYZ1wvd2d4bWJZUTUrSHVDM0lUcW5KNHdETFZ4T1lieU81OUhzc1VoUXhZcWk0UDZSQXVFdz09IiwibWFjIjoiYmJkMDJkMDhlODIzMzcyMWY4M2NmYWNjNGVlOWRjMDIwZmVmNzAyMjE3Yzg3ZGY3ODBkZWEzZTI4MTI5ZWNmOSJ9; _gat=1; nexagesd=10',\n",
    "    'dnt': '1',\n",
    "    'mv-authorization': '21835b082e15b91a69b3851eec7b31b82ce82afb',\n",
    "    'referer': 'https://movies.yahoo.com.tw/',\n",
    "    'user-agent': 'Mozilla/5.0 (Windows NT 10.0; Win64; x64) AppleWebKit/537.36 (KHTML, like Gecko) Chrome/74.0.3729.169 Safari/537.36',\n",
    "    'x-requested-with': 'XMLHttpRequest',\n",
    "}\n",
    "    \n",
    "resp = requests.get(url, params=payload, headers=headers)\n",
    "#print(resp.json())  # 若有需要，列印出json原始碼\n",
    "\n",
    "# 這裡回傳的格式是JSON格式的資料，要解析JSON擷取資料\n",
    "for p in resp.json():\n",
    "    print('放映地區: {0}, 代號(area_id): {1}'.format(p['title'], p['area_id']))"
   ]
  },
  {
   "cell_type": "markdown",
   "metadata": {},
   "source": [
    "### 指定你想要觀看的放映地區，查詢有上映電影的場次日期"
   ]
  },
  {
   "cell_type": "code",
   "execution_count": 64,
   "metadata": {},
   "outputs": [],
   "source": [
    "# 指定放映地區\n",
    "area_id = 17"
   ]
  },
  {
   "cell_type": "code",
   "execution_count": 65,
   "metadata": {},
   "outputs": [
    {
     "name": "stdout",
     "output_type": "stream",
     "text": [
      "六月 19\n",
      "六月 20\n",
      "六月 21\n",
      "六月 22\n",
      "六月 23\n"
     ]
    }
   ],
   "source": [
    "# 向網站發送請求\n",
    "url = 'https://movies.yahoo.com.tw/movietime_result.html'\n",
    "payload = {'movie_id':str(movie_id), 'area_id':str(area_id)}\n",
    "resp = requests.get(url, params=payload)\n",
    "resp.encoding = 'utf-8'\n",
    "\n",
    "soup = BeautifulSoup(resp.text, 'lxml')\n",
    "movie_date = soup.find_all(\"label\", attrs={'for':re.compile(\"date_[\\d]\")})\n",
    "\n",
    "# 列印播放日期\n",
    "for date in movie_date:\n",
    "    print(\"%s %s\" % (date.p.string, date.h3.string))"
   ]
  },
  {
   "cell_type": "markdown",
   "metadata": {},
   "source": [
    "### 最後指定觀看的日期，查詢並列印出放映的電影院、放映類型(數位、3D、IMAX 3D...)、放映時間等資訊。"
   ]
  },
  {
   "cell_type": "markdown",
   "metadata": {},
   "source": [
    "### ANS:"
   ]
  },
  {
   "cell_type": "markdown",
   "metadata": {},
   "source": [
    "#### 參考資料\n",
    "[Get item from bs4.element.Tag](https://stackoverflow.com/questions/57395509/get-item-from-bs4-element-tag \"Get item from bs4.element.Tag\")\n",
    "\n",
    "[Python bs4.element.Tag() Examples](https://www.programcreek.com/python/example/105361/bs4.element.Tag \"Python bs4.element.Tag() Examples\")\n",
    "\n",
    "[BeautifulSoup的ResultSet，如何遍历全部内容？](https://segmentfault.com/q/1010000016793109 \"BeautifulSoup的ResultSet，如何遍历全部内容？\")"
   ]
  },
  {
   "cell_type": "code",
   "execution_count": 66,
   "metadata": {},
   "outputs": [],
   "source": [
    "# 選定要觀看的日期\n",
    "date = \"2020-06-19\""
   ]
  },
  {
   "cell_type": "code",
   "execution_count": 67,
   "metadata": {},
   "outputs": [],
   "source": [
    "# 向網站發送請求，獲取上映的電影院及時間資訊\n",
    "url = \"https://movies.yahoo.com.tw/ajax/pc/get_schedule_by_movie\"\n",
    "payload = {'movie_id':str(movie_id),\n",
    "           'date':date,\n",
    "           'area_id':str(area_id),\n",
    "           'theater_id':'',\n",
    "           'datetime':'',\n",
    "           'movie_type_id':''}\n",
    "\n",
    "resp = requests.get(url, params=payload)\n",
    "#print(resp.json()['view'])  # 若有需要，列印出json原始碼\n",
    "\n",
    "soup = BeautifulSoup(resp.json()['view'], 'lxml')\n",
    "html = soup.find_all(\"ul\", attrs={'data-theater_name':re.compile(\".*\")})"
   ]
  },
  {
   "cell_type": "code",
   "execution_count": 68,
   "metadata": {},
   "outputs": [
    {
     "name": "stdout",
     "output_type": "stream",
     "text": [
      "----------------------------------------------------------------------\n",
      "電影院:  高雄大遠百威秀影城\n",
      "放映類型:  數位\n",
      "2020-06-19 13:00:00\n",
      "2020-06-19 17:05:00\n",
      "2020-06-19 21:05:00\n",
      "----------------------------------------------------------------------\n",
      "電影院:  喜滿客夢時代影城\n",
      "放映類型:  數位\n",
      "2020-06-19 16:40:00\n",
      "2020-06-19 21:30:00\n",
      "----------------------------------------------------------------------\n"
     ]
    },
    {
     "data": {
      "text/plain": [
       "[<ul class=\"area_time _c jq_area_time\" data-theater_name=\"高雄大遠百威秀影城\" data-theater_schedules=\"https://movies.yahoo.com.tw/theater_result.html/id=86\" data-theater_url=\"http://www.vscinemas.com.tw/\" id=\"theater_id_86\">\n",
       " <li class=\"adds\">\n",
       " <a href=\"https://movies.yahoo.com.tw/theater_result.html/id=86\">高雄大遠百威秀影城</a>\n",
       " <span>07-3345566</span>\n",
       " </li>\n",
       " <li class=\"taps\">\n",
       " <span class=\"tapR\">數位</span> </li>\n",
       " <li class=\"time _c\">\n",
       " <div class=\"input_picker jq_input_picker\">\n",
       " <input class=\"gabtn\" data-cinema=\"40288eb0050f542401050f5582141dac\" data-date=\"1592496000\" data-ezding=\"ezding\" data-ga=\"['電影頁_時刻表', '電影頁_時刻表_場次', '惡棍英雄：死侍.']\" data-movie=\"530012456de94d77a0edc48b1f1b725c\" data-movie_date=\"06.19\" data-movie_time=\"13:00\" data-movie_title=\"惡棍英雄：死侍.\" data-movie_type=\"數位\" data-session=\"432ba4702f7941d3bf8f65689b03616b\" data-time=\"1592542800\" id=\"73682698\" name=\"schedule_list\" type=\"radio\" value=\"2020-06-19 13:00:00\"/>\n",
       " <label class=\"select\" for=\"73682698\">13:00</label>\n",
       " <input class=\"gabtn\" data-cinema=\"40288eb0050f542401050f5582141dac\" data-date=\"1592496000\" data-ezding=\"ezding\" data-ga=\"['電影頁_時刻表', '電影頁_時刻表_場次', '惡棍英雄：死侍.']\" data-movie=\"530012456de94d77a0edc48b1f1b725c\" data-movie_date=\"06.19\" data-movie_time=\"17:05\" data-movie_title=\"惡棍英雄：死侍.\" data-movie_type=\"數位\" data-session=\"7375f2495690427a9825994847815ae7\" data-time=\"1592557500\" id=\"73682699\" name=\"schedule_list\" type=\"radio\" value=\"2020-06-19 17:05:00\"/>\n",
       " <label class=\"select\" for=\"73682699\">17:05</label>\n",
       " <input class=\"gabtn\" data-cinema=\"40288eb0050f542401050f5582141dac\" data-date=\"1592496000\" data-ezding=\"ezding\" data-ga=\"['電影頁_時刻表', '電影頁_時刻表_場次', '惡棍英雄：死侍.']\" data-movie=\"530012456de94d77a0edc48b1f1b725c\" data-movie_date=\"06.19\" data-movie_time=\"21:05\" data-movie_title=\"惡棍英雄：死侍.\" data-movie_type=\"數位\" data-session=\"15266faf663148948a8d5be0ab9492f1\" data-time=\"1592571900\" id=\"73682700\" name=\"schedule_list\" type=\"radio\" value=\"2020-06-19 21:05:00\"/>\n",
       " <label class=\"select\" for=\"73682700\">21:05</label>\n",
       " </div>\n",
       " </li>\n",
       " </ul>,\n",
       " <ul class=\"area_time _c jq_area_time\" data-theater_name=\"喜滿客夢時代影城\" data-theater_schedules=\"https://movies.yahoo.com.tw/theater_result.html/id=113\" data-theater_url=\"http://www.cinemark.com.tw/\" id=\"theater_id_113\">\n",
       " <li class=\"adds\">\n",
       " <a href=\"https://movies.yahoo.com.tw/theater_result.html/id=113\">喜滿客夢時代影城</a>\n",
       " <span>07-9702001</span>\n",
       " </li>\n",
       " <li class=\"taps\">\n",
       " <span class=\"tapR\">數位</span> </li>\n",
       " <li class=\"time _c\">\n",
       " <div class=\"input_picker jq_input_picker\">\n",
       " <input class=\"gabtn\" data-cinema=\"40288eb0050f542401050f5581582dc5\" data-date=\"1592496000\" data-ezding=\"ezding\" data-ga=\"['電影頁_時刻表', '電影頁_時刻表_場次', '惡棍英雄：死侍.']\" data-movie=\"1fcccbcdf8fb4655a7ea36c65bbc5a22\" data-movie_date=\"06.19\" data-movie_time=\"16:40\" data-movie_title=\"惡棍英雄：死侍.\" data-movie_type=\"數位\" data-session=\"54d74b0de33e48c3b4d1ead4a070cea2\" data-time=\"1592556000\" id=\"73683503\" name=\"schedule_list\" type=\"radio\" value=\"2020-06-19 16:40:00\"/>\n",
       " <label class=\"select\" for=\"73683503\">16:40</label>\n",
       " <input class=\"gabtn\" data-cinema=\"40288eb0050f542401050f5581582dc5\" data-date=\"1592496000\" data-ezding=\"ezding\" data-ga=\"['電影頁_時刻表', '電影頁_時刻表_場次', '惡棍英雄：死侍.']\" data-movie=\"1fcccbcdf8fb4655a7ea36c65bbc5a22\" data-movie_date=\"06.19\" data-movie_time=\"21:30\" data-movie_title=\"惡棍英雄：死侍.\" data-movie_type=\"數位\" data-session=\"46b8a139de76438d96810ca4b7650faa\" data-time=\"1592573400\" id=\"73683504\" name=\"schedule_list\" type=\"radio\" value=\"2020-06-19 21:30:00\"/>\n",
       " <label class=\"select\" for=\"73683504\">21:30</label>\n",
       " </div>\n",
       " </li>\n",
       " </ul>]"
      ]
     },
     "execution_count": 68,
     "metadata": {},
     "output_type": "execute_result"
    }
   ],
   "source": [
    "'''\n",
    "  試著從上一步驟回傳的電影院資料中，擷取電影院名稱、影片放映類型以及時間表\n",
    "'''\n",
    "print('----------------------------------------------------------------------')\n",
    "for item in html:\n",
    "    print('電影院:  {0}'.format(item.find('a').text))\n",
    "    print('放映類型:  {0}'.format(item.find('span',attrs={'class':'tapR'}).text))\n",
    "    for list_item in item.find_all('input',attrs={'class':'gabtn'}):        \n",
    "        print(list_item.get('value'))\n",
    "    print('----------------------------------------------------------------------')\n",
    "html    "
   ]
  }
 ],
 "metadata": {
  "kernelspec": {
   "display_name": "Python 3",
   "language": "python",
   "name": "python3"
  },
  "language_info": {
   "codemirror_mode": {
    "name": "ipython",
    "version": 3
   },
   "file_extension": ".py",
   "mimetype": "text/x-python",
   "name": "python",
   "nbconvert_exporter": "python",
   "pygments_lexer": "ipython3",
   "version": "3.7.6"
  }
 },
 "nbformat": 4,
 "nbformat_minor": 2
}
